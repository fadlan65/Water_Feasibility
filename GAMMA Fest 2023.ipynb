{
 "cells": [
  {
   "cell_type": "markdown",
   "id": "e3f65a3f",
   "metadata": {},
   "source": [
    "# Load Package"
   ]
  },
  {
   "cell_type": "code",
   "execution_count": 1,
   "id": "64018741",
   "metadata": {},
   "outputs": [],
   "source": [
    "import math\n",
    "import pandas as pd\n",
    "import numpy as np\n",
    "import xgboost as xgb\n",
    "from sklearn.metrics import f1_score, accuracy_score\n",
    "from sklearn.metrics import classification_report\n",
    "from sklearn.model_selection import train_test_split"
   ]
  },
  {
   "cell_type": "markdown",
   "id": "546af4da",
   "metadata": {},
   "source": [
    "# Load Dataset"
   ]
  },
  {
   "cell_type": "code",
   "execution_count": 6,
   "id": "fb9e6d99",
   "metadata": {},
   "outputs": [],
   "source": [
    "train_df = pd.read_csv('D:/Kegiatan/Gammafest IPB/train.csv', sep=',')"
   ]
  },
  {
   "cell_type": "markdown",
   "id": "39a7a67c",
   "metadata": {},
   "source": [
    "# Preprocessing Data"
   ]
  },
  {
   "cell_type": "markdown",
   "id": "d488f99e",
   "metadata": {},
   "source": [
    "## Handling Missing Values"
   ]
  },
  {
   "cell_type": "code",
   "execution_count": 7,
   "id": "eeba7277",
   "metadata": {},
   "outputs": [],
   "source": [
    "train_dropna = train_df.copy()"
   ]
  },
  {
   "cell_type": "markdown",
   "id": "4b3ed742",
   "metadata": {},
   "source": [
    "### Mode Imputation"
   ]
  },
  {
   "cell_type": "code",
   "execution_count": 8,
   "id": "79c2a642",
   "metadata": {},
   "outputs": [],
   "source": [
    "# Membuat fungsi yang dapat digunakan untuk melakukan imputasi dengan nilai modus\n",
    "def mode_imputation(df, column):\n",
    "    mode_value = df[column].mode()[0]\n",
    "    df[column].fillna(mode_value, inplace=True)\n",
    "    return df"
   ]
  },
  {
   "cell_type": "code",
   "execution_count": 9,
   "id": "f3176abf",
   "metadata": {},
   "outputs": [],
   "source": [
    "train_dropna = mode_imputation(train_dropna, 'DC205')\n",
    "train_dropna = mode_imputation(train_dropna, 'DC206')\n",
    "train_dropna = mode_imputation(train_dropna, 'DC207')\n",
    "train_dropna = mode_imputation(train_dropna, 'DC208')\n",
    "train_dropna = mode_imputation(train_dropna, 'DC209')\n",
    "train_dropna = mode_imputation(train_dropna, 'DC210')\n",
    "train_dropna = mode_imputation(train_dropna, 'DC211')\n",
    "train_dropna = mode_imputation(train_dropna, 'DC212')\n",
    "train_dropna = mode_imputation(train_dropna, 'DC213')\n",
    "train_dropna = mode_imputation(train_dropna, 'DC214')\n",
    "train_dropna = mode_imputation(train_dropna, 'DC215')\n",
    "train_dropna = mode_imputation(train_dropna, 'DC216')\n",
    "train_dropna = mode_imputation(train_dropna, 'DC226')\n",
    "train_dropna = mode_imputation(train_dropna, 'DC230a')\n",
    "train_dropna = mode_imputation(train_dropna, 'DC230b')\n",
    "train_dropna = mode_imputation(train_dropna, 'DC232')\n",
    "train_dropna = mode_imputation(train_dropna, 'DC232b')\n",
    "train_dropna = mode_imputation(train_dropna, 'DC235')\n",
    "train_dropna = mode_imputation(train_dropna, 'DC237')\n",
    "train_dropna = mode_imputation(train_dropna, 'DC237a')\n",
    "train_dropna = mode_imputation(train_dropna, 'DC237b')\n",
    "train_dropna = mode_imputation(train_dropna, 'DC237c')\n",
    "train_dropna = mode_imputation(train_dropna, 'DC237d')\n",
    "train_dropna = mode_imputation(train_dropna, 'DC237e')\n",
    "train_dropna = mode_imputation(train_dropna, 'DC237f')\n",
    "train_dropna = mode_imputation(train_dropna, 'DC241')\n",
    "train_dropna = mode_imputation(train_dropna, 'DC242')\n",
    "train_dropna = mode_imputation(train_dropna, 'DC244')\n",
    "train_dropna = mode_imputation(train_dropna, 'DC246')\n",
    "train_dropna = mode_imputation(train_dropna, 'DC252')\n",
    "train_dropna = mode_imputation(train_dropna, 'DC270a')\n",
    "train_dropna = mode_imputation(train_dropna, 'DC109')"
   ]
  },
  {
   "cell_type": "markdown",
   "id": "e295019d",
   "metadata": {},
   "source": [
    "### Median Imputation"
   ]
  },
  {
   "cell_type": "code",
   "execution_count": 10,
   "id": "f121566a",
   "metadata": {},
   "outputs": [],
   "source": [
    "# Membuat fungsi yang dapat digunakan untuk melakukan imputasi dengan nilai modus\n",
    "def median_imputation(df, column):\n",
    "    median_value = df[column].median()\n",
    "    df[column].fillna(median_value, inplace=True)\n",
    "    return df"
   ]
  },
  {
   "cell_type": "code",
   "execution_count": 11,
   "id": "ee8a2eaa",
   "metadata": {},
   "outputs": [],
   "source": [
    "train_dropna = median_imputation(train_dropna, 'DC142a')\n",
    "train_dropna = median_imputation(train_dropna, 'DC220')"
   ]
  },
  {
   "cell_type": "markdown",
   "id": "19c2ad48",
   "metadata": {},
   "source": [
    "### Drop Missing Values"
   ]
  },
  {
   "cell_type": "code",
   "execution_count": 12,
   "id": "c25061b0",
   "metadata": {},
   "outputs": [],
   "source": [
    "train_dropna = train_dropna.dropna().reset_index(drop=True)"
   ]
  },
  {
   "cell_type": "markdown",
   "id": "71c88b8f",
   "metadata": {},
   "source": [
    "### Data Transformation"
   ]
  },
  {
   "cell_type": "code",
   "execution_count": 13,
   "id": "e61be78d",
   "metadata": {},
   "outputs": [],
   "source": [
    "# Melabeli setiap nilai pada fitur DC201\n",
    "train_dropna['DC201'] = train_dropna['DC201'].replace('Layak Minum', 1)\n",
    "train_dropna['DC201'] = train_dropna['DC201'].replace('Tidak Layak Minum', 0)"
   ]
  },
  {
   "cell_type": "code",
   "execution_count": 14,
   "id": "95bd6c66",
   "metadata": {},
   "outputs": [],
   "source": [
    "# Konversi tipe data pada fitur DC201\n",
    "train_dropna['DC201'] = train_dropna['DC201'].astype('int64')"
   ]
  },
  {
   "cell_type": "markdown",
   "id": "53f1dac2",
   "metadata": {},
   "source": [
    "### Features Selection"
   ]
  },
  {
   "cell_type": "code",
   "execution_count": 15,
   "id": "e4e68661",
   "metadata": {},
   "outputs": [],
   "source": [
    "train_selection = train_dropna.copy()"
   ]
  },
  {
   "cell_type": "code",
   "execution_count": 22,
   "id": "1c8f24b2",
   "metadata": {},
   "outputs": [],
   "source": [
    "feature_columns = ['DC024', 'DC025', 'DC205', 'DC206', 'DC207', 'DC208', \n",
    "                   'DC209', 'DC210', 'DC211', 'DC212', 'DC213', 'DC214', \n",
    "                   'DC215', 'DC216','DC217', 'DC219','DC220', 'DC226', 'DC230a', 'DC230b', \n",
    "                   'DC232', 'DC232b', 'DC235', 'DC237', 'DC237a', 'DC237b', \n",
    "                   'DC237c', 'DC237d', 'DC237e', 'DC237f', 'DC241', 'DC242','DC244',\n",
    "                   'DC246', 'DC252', 'DC270a', 'DC109','DC142a']\n",
    "\n",
    "label_column = 'DC201'"
   ]
  },
  {
   "cell_type": "code",
   "execution_count": 31,
   "id": "b76c4466",
   "metadata": {},
   "outputs": [],
   "source": [
    "# Menghitung nilai korelasi untuk setiap fitur dan nilai rataan dari seluruh korelasi\n",
    "correlations = train_selection[feature_columns + [label_column]].corr()\n",
    "\n",
    "corr_feature = []\n",
    "jum = 0\n",
    "\n",
    "for features in feature_columns:\n",
    "    correlation_value = correlations.loc[features, label_column]\n",
    "    \n",
    "    corr_feature.append(correlation_value)\n",
    "    \n",
    "    if correlation_value < 0:\n",
    "        correlation_value = abs(correlation_value)\n",
    "    jum += correlation_value"
   ]
  },
  {
   "cell_type": "code",
   "execution_count": 32,
   "id": "9dbda0dc",
   "metadata": {},
   "outputs": [
    {
     "name": "stdout",
     "output_type": "stream",
     "text": [
      "[-0.0243847167571317, -0.25638529431553364, -0.2708483199692181, 0.1617274277045489, 0.0620095046369823, 0.19210076329111822, 0.2149434975138483, 0.10855786896294307, 0.1327481596627701, 0.10454326178005408, 0.13041655115307327, 0.03186537875845745, 0.13750162673523347, 0.0828088837423915, 0.021948712731529794, -0.006992274776799389, -0.01992793914349794, -0.022886995341804082, -0.13990297523346987, 0.08504902250578414, 0.09865065060780812, -0.030825276481345174, -0.05662691834453649, -0.18150046011326088, -0.17699535927969604, -0.03053451684293955, -0.04463383891224175, -0.007319142704607651, 0.0060357903412041865, -0.09747038480424482, -0.09602370014515456, 0.011618138435613408, -0.17131158318038758, -0.15396102185713603, -0.020733536693352504, 0.23651402947060884, -0.2737224044660681, 0.07279861254873744]\n"
     ]
    }
   ],
   "source": [
    "# Menampilkan nilai korelasi untuk setiap fitur\n",
    "print(corr_feature)"
   ]
  },
  {
   "cell_type": "code",
   "execution_count": 26,
   "id": "56e32440",
   "metadata": {},
   "outputs": [],
   "source": [
    "pd.DataFrame({\"korelasi\":corr_feature}).to_excel('korelasi variabels.xlsx',index=False)"
   ]
  },
  {
   "cell_type": "code",
   "execution_count": 33,
   "id": "3a9573f1",
   "metadata": {},
   "outputs": [
    {
     "name": "stdout",
     "output_type": "stream",
     "text": [
      "mean: 0.10460\n"
     ]
    }
   ],
   "source": [
    "mean_corr = jum / len(feature_columns)\n",
    "print('mean: {:.5f}'.format(mean_corr))\n",
    "\n",
    "# Output: 0.05564"
   ]
  },
  {
   "cell_type": "code",
   "execution_count": 35,
   "id": "7d26b10c",
   "metadata": {},
   "outputs": [
    {
     "name": "stdout",
     "output_type": "stream",
     "text": [
      "['DC024', 'DC207', 'DC212', 'DC214', 'DC216', 'DC217', 'DC219', 'DC220', 'DC226', 'DC230b', 'DC232', 'DC232b', 'DC235', 'DC237b', 'DC237c', 'DC237d', 'DC237e', 'DC237f', 'DC241', 'DC242', 'DC252', 'DC142a']\n"
     ]
    }
   ],
   "source": [
    "# Menyeleksi setiap fitur yang memiliki nilai korelasi yang kuat\n",
    "correlations = train_selection[feature_columns + [label_column]].corr()\n",
    "\n",
    "corr_selection = []\n",
    "\n",
    "for features in feature_columns:\n",
    "    correlation_value = correlations.loc[features, label_column]\n",
    "    \n",
    "    if correlation_value >= -0.104601 and correlation_value <= 0.104601:\n",
    "        corr_selection.append(features)\n",
    "        \n",
    "print(corr_selection)\n",
    "\n",
    "# Output: fitur yang akan tereliminasi, diantaranya DC024, DC214, DC217, DC219, DC226, DC232b, DC237a, DC237b, DC237c, DC237d, \n",
    "# DC237e, DC237f, DC242, DC252"
   ]
  },
  {
   "cell_type": "markdown",
   "id": "ac7c8ec1",
   "metadata": {},
   "source": [
    "### Drop Values"
   ]
  },
  {
   "cell_type": "code",
   "execution_count": 37,
   "id": "58116a5c",
   "metadata": {},
   "outputs": [],
   "source": [
    "train_drop = train_selection.copy()"
   ]
  },
  {
   "cell_type": "code",
   "execution_count": 38,
   "id": "fee87e7f",
   "metadata": {},
   "outputs": [],
   "source": [
    "train_drop = train_drop.drop(['id', 'DC024', 'DC207', 'DC212', 'DC214', 'DC216', 'DC217', 'DC219', 'DC220', 'DC226', 'DC230b', 'DC232', 'DC232b', 'DC235', 'DC237b', 'DC237c', 'DC237d', 'DC237e', 'DC237f', 'DC241', 'DC242', 'DC252', 'DC142a'], axis=1)"
   ]
  },
  {
   "cell_type": "markdown",
   "id": "f479ab67",
   "metadata": {},
   "source": [
    "## Modeling"
   ]
  },
  {
   "cell_type": "code",
   "execution_count": 39,
   "id": "88685be3",
   "metadata": {},
   "outputs": [],
   "source": [
    "train_model = train_drop.copy()"
   ]
  },
  {
   "cell_type": "code",
   "execution_count": 40,
   "id": "c8ab9df8",
   "metadata": {},
   "outputs": [
    {
     "data": {
      "text/html": [
       "<div>\n",
       "<style scoped>\n",
       "    .dataframe tbody tr th:only-of-type {\n",
       "        vertical-align: middle;\n",
       "    }\n",
       "\n",
       "    .dataframe tbody tr th {\n",
       "        vertical-align: top;\n",
       "    }\n",
       "\n",
       "    .dataframe thead th {\n",
       "        text-align: right;\n",
       "    }\n",
       "</style>\n",
       "<table border=\"1\" class=\"dataframe\">\n",
       "  <thead>\n",
       "    <tr style=\"text-align: right;\">\n",
       "      <th></th>\n",
       "      <th>DC025</th>\n",
       "      <th>DC205</th>\n",
       "      <th>DC206</th>\n",
       "      <th>DC208</th>\n",
       "      <th>DC209</th>\n",
       "      <th>DC210</th>\n",
       "      <th>DC211</th>\n",
       "      <th>DC213</th>\n",
       "      <th>DC215</th>\n",
       "      <th>DC230a</th>\n",
       "      <th>DC237</th>\n",
       "      <th>DC237a</th>\n",
       "      <th>DC244</th>\n",
       "      <th>DC246</th>\n",
       "      <th>DC270a</th>\n",
       "      <th>DC109</th>\n",
       "      <th>DC201</th>\n",
       "    </tr>\n",
       "  </thead>\n",
       "  <tbody>\n",
       "    <tr>\n",
       "      <th>0</th>\n",
       "      <td>2</td>\n",
       "      <td>16.0</td>\n",
       "      <td>1.0</td>\n",
       "      <td>1.0</td>\n",
       "      <td>0.0</td>\n",
       "      <td>0.0</td>\n",
       "      <td>0.0</td>\n",
       "      <td>35.0</td>\n",
       "      <td>31.0</td>\n",
       "      <td>1.0</td>\n",
       "      <td>1.0</td>\n",
       "      <td>1.0</td>\n",
       "      <td>0.0</td>\n",
       "      <td>0.0</td>\n",
       "      <td>1</td>\n",
       "      <td>12.0</td>\n",
       "      <td>1</td>\n",
       "    </tr>\n",
       "    <tr>\n",
       "      <th>1</th>\n",
       "      <td>2</td>\n",
       "      <td>31.0</td>\n",
       "      <td>1.0</td>\n",
       "      <td>1.0</td>\n",
       "      <td>0.0</td>\n",
       "      <td>0.0</td>\n",
       "      <td>1.0</td>\n",
       "      <td>35.0</td>\n",
       "      <td>31.0</td>\n",
       "      <td>1.0</td>\n",
       "      <td>1.0</td>\n",
       "      <td>1.0</td>\n",
       "      <td>1.0</td>\n",
       "      <td>1.0</td>\n",
       "      <td>2</td>\n",
       "      <td>31.0</td>\n",
       "      <td>1</td>\n",
       "    </tr>\n",
       "    <tr>\n",
       "      <th>2</th>\n",
       "      <td>2</td>\n",
       "      <td>12.0</td>\n",
       "      <td>1.0</td>\n",
       "      <td>1.0</td>\n",
       "      <td>1.0</td>\n",
       "      <td>1.0</td>\n",
       "      <td>1.0</td>\n",
       "      <td>35.0</td>\n",
       "      <td>31.0</td>\n",
       "      <td>1.0</td>\n",
       "      <td>1.0</td>\n",
       "      <td>1.0</td>\n",
       "      <td>1.0</td>\n",
       "      <td>1.0</td>\n",
       "      <td>4</td>\n",
       "      <td>11.0</td>\n",
       "      <td>1</td>\n",
       "    </tr>\n",
       "    <tr>\n",
       "      <th>3</th>\n",
       "      <td>2</td>\n",
       "      <td>12.0</td>\n",
       "      <td>1.0</td>\n",
       "      <td>0.0</td>\n",
       "      <td>0.0</td>\n",
       "      <td>0.0</td>\n",
       "      <td>1.0</td>\n",
       "      <td>35.0</td>\n",
       "      <td>31.0</td>\n",
       "      <td>1.0</td>\n",
       "      <td>1.0</td>\n",
       "      <td>1.0</td>\n",
       "      <td>1.0</td>\n",
       "      <td>0.0</td>\n",
       "      <td>1</td>\n",
       "      <td>11.0</td>\n",
       "      <td>1</td>\n",
       "    </tr>\n",
       "    <tr>\n",
       "      <th>4</th>\n",
       "      <td>2</td>\n",
       "      <td>12.0</td>\n",
       "      <td>1.0</td>\n",
       "      <td>1.0</td>\n",
       "      <td>1.0</td>\n",
       "      <td>0.0</td>\n",
       "      <td>0.0</td>\n",
       "      <td>35.0</td>\n",
       "      <td>31.0</td>\n",
       "      <td>2.0</td>\n",
       "      <td>1.0</td>\n",
       "      <td>1.0</td>\n",
       "      <td>0.0</td>\n",
       "      <td>1.0</td>\n",
       "      <td>2</td>\n",
       "      <td>11.0</td>\n",
       "      <td>1</td>\n",
       "    </tr>\n",
       "    <tr>\n",
       "      <th>5</th>\n",
       "      <td>2</td>\n",
       "      <td>16.0</td>\n",
       "      <td>1.0</td>\n",
       "      <td>0.0</td>\n",
       "      <td>0.0</td>\n",
       "      <td>0.0</td>\n",
       "      <td>1.0</td>\n",
       "      <td>11.0</td>\n",
       "      <td>31.0</td>\n",
       "      <td>1.0</td>\n",
       "      <td>1.0</td>\n",
       "      <td>1.0</td>\n",
       "      <td>0.0</td>\n",
       "      <td>0.0</td>\n",
       "      <td>1</td>\n",
       "      <td>12.0</td>\n",
       "      <td>1</td>\n",
       "    </tr>\n",
       "    <tr>\n",
       "      <th>6</th>\n",
       "      <td>2</td>\n",
       "      <td>31.0</td>\n",
       "      <td>1.0</td>\n",
       "      <td>1.0</td>\n",
       "      <td>0.0</td>\n",
       "      <td>0.0</td>\n",
       "      <td>1.0</td>\n",
       "      <td>35.0</td>\n",
       "      <td>31.0</td>\n",
       "      <td>1.0</td>\n",
       "      <td>1.0</td>\n",
       "      <td>1.0</td>\n",
       "      <td>1.0</td>\n",
       "      <td>0.0</td>\n",
       "      <td>2</td>\n",
       "      <td>31.0</td>\n",
       "      <td>0</td>\n",
       "    </tr>\n",
       "    <tr>\n",
       "      <th>7</th>\n",
       "      <td>2</td>\n",
       "      <td>12.0</td>\n",
       "      <td>1.0</td>\n",
       "      <td>1.0</td>\n",
       "      <td>1.0</td>\n",
       "      <td>1.0</td>\n",
       "      <td>1.0</td>\n",
       "      <td>33.0</td>\n",
       "      <td>31.0</td>\n",
       "      <td>2.0</td>\n",
       "      <td>1.0</td>\n",
       "      <td>1.0</td>\n",
       "      <td>1.0</td>\n",
       "      <td>1.0</td>\n",
       "      <td>5</td>\n",
       "      <td>11.0</td>\n",
       "      <td>1</td>\n",
       "    </tr>\n",
       "    <tr>\n",
       "      <th>8</th>\n",
       "      <td>2</td>\n",
       "      <td>12.0</td>\n",
       "      <td>1.0</td>\n",
       "      <td>0.0</td>\n",
       "      <td>0.0</td>\n",
       "      <td>0.0</td>\n",
       "      <td>1.0</td>\n",
       "      <td>21.0</td>\n",
       "      <td>31.0</td>\n",
       "      <td>1.0</td>\n",
       "      <td>1.0</td>\n",
       "      <td>1.0</td>\n",
       "      <td>0.0</td>\n",
       "      <td>1.0</td>\n",
       "      <td>1</td>\n",
       "      <td>11.0</td>\n",
       "      <td>1</td>\n",
       "    </tr>\n",
       "    <tr>\n",
       "      <th>9</th>\n",
       "      <td>2</td>\n",
       "      <td>21.0</td>\n",
       "      <td>1.0</td>\n",
       "      <td>1.0</td>\n",
       "      <td>1.0</td>\n",
       "      <td>0.0</td>\n",
       "      <td>1.0</td>\n",
       "      <td>21.0</td>\n",
       "      <td>31.0</td>\n",
       "      <td>1.0</td>\n",
       "      <td>1.0</td>\n",
       "      <td>1.0</td>\n",
       "      <td>1.0</td>\n",
       "      <td>0.0</td>\n",
       "      <td>3</td>\n",
       "      <td>41.0</td>\n",
       "      <td>1</td>\n",
       "    </tr>\n",
       "  </tbody>\n",
       "</table>\n",
       "</div>"
      ],
      "text/plain": [
       "   DC025  DC205  DC206  DC208  DC209  DC210  DC211  DC213  DC215  DC230a  \\\n",
       "0      2   16.0    1.0    1.0    0.0    0.0    0.0   35.0   31.0     1.0   \n",
       "1      2   31.0    1.0    1.0    0.0    0.0    1.0   35.0   31.0     1.0   \n",
       "2      2   12.0    1.0    1.0    1.0    1.0    1.0   35.0   31.0     1.0   \n",
       "3      2   12.0    1.0    0.0    0.0    0.0    1.0   35.0   31.0     1.0   \n",
       "4      2   12.0    1.0    1.0    1.0    0.0    0.0   35.0   31.0     2.0   \n",
       "5      2   16.0    1.0    0.0    0.0    0.0    1.0   11.0   31.0     1.0   \n",
       "6      2   31.0    1.0    1.0    0.0    0.0    1.0   35.0   31.0     1.0   \n",
       "7      2   12.0    1.0    1.0    1.0    1.0    1.0   33.0   31.0     2.0   \n",
       "8      2   12.0    1.0    0.0    0.0    0.0    1.0   21.0   31.0     1.0   \n",
       "9      2   21.0    1.0    1.0    1.0    0.0    1.0   21.0   31.0     1.0   \n",
       "\n",
       "   DC237  DC237a  DC244  DC246  DC270a  DC109  DC201  \n",
       "0    1.0     1.0    0.0    0.0       1   12.0      1  \n",
       "1    1.0     1.0    1.0    1.0       2   31.0      1  \n",
       "2    1.0     1.0    1.0    1.0       4   11.0      1  \n",
       "3    1.0     1.0    1.0    0.0       1   11.0      1  \n",
       "4    1.0     1.0    0.0    1.0       2   11.0      1  \n",
       "5    1.0     1.0    0.0    0.0       1   12.0      1  \n",
       "6    1.0     1.0    1.0    0.0       2   31.0      0  \n",
       "7    1.0     1.0    1.0    1.0       5   11.0      1  \n",
       "8    1.0     1.0    0.0    1.0       1   11.0      1  \n",
       "9    1.0     1.0    1.0    0.0       3   41.0      1  "
      ]
     },
     "execution_count": 40,
     "metadata": {},
     "output_type": "execute_result"
    }
   ],
   "source": [
    "train_model.head(10)"
   ]
  },
  {
   "cell_type": "code",
   "execution_count": 41,
   "id": "0e502da1",
   "metadata": {},
   "outputs": [
    {
     "name": "stderr",
     "output_type": "stream",
     "text": [
      "C:\\Users\\FADLAN~1\\AppData\\Local\\Temp/ipykernel_16312/2894025009.py:1: FutureWarning: In a future version of pandas all arguments of DataFrame.drop except for the argument 'labels' will be keyword-only\n",
      "  X = train_model.drop('DC201', 1)\n"
     ]
    }
   ],
   "source": [
    "X = train_model.drop('DC201', 1)\n",
    "y = train_model['DC201']"
   ]
  },
  {
   "cell_type": "code",
   "execution_count": 42,
   "id": "a0f7ecda",
   "metadata": {},
   "outputs": [],
   "source": [
    "X_train, X_test, y_train, y_test = train_test_split(X, y, test_size=0.26, random_state=200)"
   ]
  },
  {
   "cell_type": "code",
   "execution_count": 51,
   "id": "ca2b08de",
   "metadata": {},
   "outputs": [
    {
     "data": {
      "text/plain": [
       "(9353, 16)"
      ]
     },
     "execution_count": 51,
     "metadata": {},
     "output_type": "execute_result"
    }
   ],
   "source": [
    "X_test.shape"
   ]
  },
  {
   "cell_type": "code",
   "execution_count": 49,
   "id": "537d1051",
   "metadata": {},
   "outputs": [
    {
     "name": "stdout",
     "output_type": "stream",
     "text": [
      "Akurasi: 0.9069817170961189\n",
      "F1 Skor: 0.9500516706854978\n",
      "\n",
      "\n",
      "0.9224080267558529\n",
      "0.9794034090909091\n",
      "209 696 174 8274\n",
      "              precision    recall  f1-score   support\n",
      "\n",
      "           0       0.55      0.23      0.32       905\n",
      "           1       0.92      0.98      0.95      8448\n",
      "\n",
      "    accuracy                           0.91      9353\n",
      "   macro avg       0.73      0.61      0.64      9353\n",
      "weighted avg       0.89      0.91      0.89      9353\n",
      "\n"
     ]
    }
   ],
   "source": [
    "model = xgb.XGBClassifier()\n",
    "model.fit(X_train, y_train)\n",
    "y_pred = model.predict(X_test)\n",
    "f1 = f1_score(y_test, y_pred)\n",
    "acc = accuracy_score(y_test, y_pred)\n",
    "\n",
    "from sklearn.metrics import confusion_matrix, precision_score, recall_score\n",
    "print('Akurasi:',acc)\n",
    "print('F1 Skor:',f1)\n",
    "print('\\n')\n",
    "print(precision_score(y_pred=y_pred, y_true=y_test))\n",
    "print(recall_score(y_pred=y_pred, y_true=y_test))\n",
    "tn, fp, fn, tp = confusion_matrix(y_true = y_test, y_pred = y_pred).ravel()\n",
    "print(tn, fp, fn, tp)\n",
    "print(classification_report(y_test, y_pred))"
   ]
  },
  {
   "cell_type": "markdown",
   "id": "15e7be15",
   "metadata": {},
   "source": [
    "## Prediction"
   ]
  },
  {
   "cell_type": "code",
   "execution_count": null,
   "id": "fd58d57c",
   "metadata": {},
   "outputs": [],
   "source": [
    "test_df = pd.read_csv('D:/Dataset/water_feasibility/test.csv', sep=',')"
   ]
  },
  {
   "cell_type": "code",
   "execution_count": null,
   "id": "989b65c7",
   "metadata": {},
   "outputs": [],
   "source": [
    "test_df = test_df.drop(['id', 'DC024', 'DC214', 'DC217', 'DC219', 'DC226', \n",
    "                              'DC232b', 'DC237a', 'DC237b', 'DC237c', 'DC237d', 'DC237e', \n",
    "                              'DC237f', 'DC242', 'DC252'], axis=1)"
   ]
  },
  {
   "cell_type": "code",
   "execution_count": null,
   "id": "537a0f39",
   "metadata": {},
   "outputs": [],
   "source": [
    "y_test_pred = model.predict(test_df)"
   ]
  },
  {
   "cell_type": "code",
   "execution_count": null,
   "id": "3f91ded6",
   "metadata": {},
   "outputs": [],
   "source": [
    "y_test_pred"
   ]
  },
  {
   "cell_type": "code",
   "execution_count": null,
   "id": "9c178a97",
   "metadata": {},
   "outputs": [],
   "source": [
    "# Konversi tipe data pada variabel y_test_pred\n",
    "y_test_pred = y_test_pred.astype('str')"
   ]
  },
  {
   "cell_type": "code",
   "execution_count": null,
   "id": "9199bb30",
   "metadata": {},
   "outputs": [],
   "source": [
    "# Melabeli setiap nilai variabel y_test_pred\n",
    "y_test_pred[y_test_pred == '0'] = 'Tidak Layak Minum'\n",
    "y_test_pred[y_test_pred == '1'] = 'Layak Minum'"
   ]
  },
  {
   "cell_type": "code",
   "execution_count": null,
   "id": "3fea444a",
   "metadata": {},
   "outputs": [],
   "source": [
    "submission = pd.read_csv('D:/Dataset/water_feasibility/sample_submission.csv', sep=',')\n",
    "submission['DC201'] = y_test_pred"
   ]
  },
  {
   "cell_type": "code",
   "execution_count": null,
   "id": "0686e2ce",
   "metadata": {},
   "outputs": [],
   "source": [
    "submission.head(50)"
   ]
  },
  {
   "cell_type": "code",
   "execution_count": null,
   "id": "099bc7c9",
   "metadata": {},
   "outputs": [],
   "source": [
    "submission.to_csv('sample_submission.csv', index=False)"
   ]
  }
 ],
 "metadata": {
  "kernelspec": {
   "display_name": "Python 3 (ipykernel)",
   "language": "python",
   "name": "python3"
  },
  "language_info": {
   "codemirror_mode": {
    "name": "ipython",
    "version": 3
   },
   "file_extension": ".py",
   "mimetype": "text/x-python",
   "name": "python",
   "nbconvert_exporter": "python",
   "pygments_lexer": "ipython3",
   "version": "3.8.10"
  }
 },
 "nbformat": 4,
 "nbformat_minor": 5
}
